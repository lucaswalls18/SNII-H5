{
 "cells": [
  {
   "cell_type": "markdown",
   "metadata": {
    "id": "Sgm7f39O6XLH"
   },
   "source": [
    "# Supernova H5 Notebook \n",
    "This notebook aims to plot different properties such as temperature and density throughout a pre supernova and post supernova star using HDF5 files. \n",
    "\n",
    "In addition it will look look at the abundances of different isotopes in pre and post supernova stars."
   ]
  },
  {
   "cell_type": "markdown",
   "metadata": {
    "id": "1_pOSGh9HuYa"
   },
   "source": [
    "## Getting the data"
   ]
  },
  {
   "cell_type": "markdown",
   "metadata": {
    "id": "Y58fgi1gHyEI"
   },
   "source": [
    "First we obtain the H5 file, which contains data on the presupernova star, the individual zones during the supernova, and the post explosion star: "
   ]
  },
  {
   "cell_type": "code",
   "execution_count": null,
   "metadata": {
    "colab": {
     "base_uri": "https://localhost:8080/"
    },
    "id": "yZa0xYyg5iI8",
    "outputId": "59bf5202-2b4e-4b75-9892-0a4dcb2ce353",
    "scrolled": false
   },
   "outputs": [],
   "source": [
    "import sys\n",
    "import gzip\n",
    "!curl -o out.h5.gz -J -L https://osf.io/73zd2/download\n",
    "!gunzip out.h5.gz\n",
    "!{sys.executable} -m pip install --quiet wnutils"
   ]
  },
  {
   "cell_type": "markdown",
   "metadata": {
    "id": "7M0JBkmEA0wn"
   },
   "source": [
    "Then, we import the h5 wnutils package and read in the h5 file to the program. "
   ]
  },
  {
   "cell_type": "code",
   "execution_count": null,
   "metadata": {
    "id": "1Ee7m4CPBBds"
   },
   "outputs": [],
   "source": [
    "import wnutils.h5 as w5\n",
    "import numpy as np\n",
    "import matplotlib.pyplot as plt \n",
    "from matplotlib.animation import FuncAnimation as anim\n",
    "h5=w5.H5('out.h5')"
   ]
  },
  {
   "cell_type": "markdown",
   "metadata": {},
   "source": [
    "Now, one can modify the below code to save the properties of interest to them. For the pre and post supernova, the properties are not time dependant and are functions of the interior lagrangian mass coordinate. For the explosion run group, all properties are functions of time."
   ]
  },
  {
   "cell_type": "code",
   "execution_count": null,
   "metadata": {
    "id": "gyDSrLb1J6bb"
   },
   "outputs": [],
   "source": [
    "#Zone '200' vs. time during shockwave propagation, to vary the zone just change 'Expl/Runs/#' to the zone # of interest\n",
    "props_run=h5.get_group_properties_in_zones_as_floats('Expl/Runs/200',['time','t9','rho'])\n",
    "\n",
    "#Post supernova star (After shockwave propogation)\n",
    "props_postsn=h5.get_group_properties_in_zones_as_floats('Expl/Full',['t9','shock t9','t9_0','mass below','shock time'])"
   ]
  },
  {
   "cell_type": "markdown",
   "metadata": {
    "id": "NPjqWs-UL4qH"
   },
   "source": [
    "Next, we obtain the mass fractions for the given species in each group. Isotopes are specified by the format: 'symbolA', where symbol is the element symbol and A is the mass number of the isotope. Here we look at $^{15}$N and $^{18}$O, but the species list can be modified to whatever species are of interest to you:"
   ]
  },
  {
   "cell_type": "code",
   "execution_count": null,
   "metadata": {
    "id": "fQHlT3e3MCk5"
   },
   "outputs": [],
   "source": [
    "species = ['n15','o18']\n",
    "lnames=h5.get_latex_names(species)\n",
    "indices={}\n",
    "for sp in species:\n",
    "  indices[sp]=(h5.get_nuclide_data())[sp]['index']\n",
    "#mass fractions in zone '200' vs. time during shockwave propagation\n",
    "mfracs_run=h5.get_group_mass_fractions('Expl/Runs/200')"
   ]
  },
  {
   "cell_type": "markdown",
   "metadata": {
    "id": "LA1oIexZV1_V"
   },
   "source": [
    "### Functions "
   ]
  },
  {
   "cell_type": "markdown",
   "metadata": {
    "id": "f-8fAuigWBLk"
   },
   "source": [
    "The following are two functions that will be used later in the program, one for creating the animation of the shockwave and the other for plotting mass fractions throughout stars. "
   ]
  },
  {
   "cell_type": "code",
   "execution_count": null,
   "metadata": {
    "id": "awzY1-SXXDjz"
   },
   "outputs": [],
   "source": [
    "#function for animating the shockwave\n",
    "#Argument: \n",
    "#     props - dict of post supernova properties includeint 't9','t9_0','shock t9', and 'mass below'\n",
    "def make_shock_anim(props):\n",
    "  from IPython.display import HTML\n",
    "  from matplotlib.animation import FuncAnimation\n",
    "\n",
    "  #x - constant, will be the 'mass below' value throughout the star\n",
    "  #y - varies, contains the temperature of each zone throughout the star at each time step during the propagation of the shock\n",
    "  x=[]\n",
    "  y=[]\n",
    "\n",
    "  #build the x array\n",
    "  for m in range(len(props_postsn['mass below'])):\n",
    "    x.append(props_postsn['mass below'][m]/1.9891e33)\n",
    "\n",
    "  #populate y with initial temperatures \n",
    "  for t in props_postsn['t9_0']:\n",
    "    y.append(t)\n",
    "\n",
    "  #create a figure for the animation to be written on\n",
    "  fig,ax=plt.subplots()\n",
    "  ax.set_xlim([1.4,8])\n",
    "  ax.set_ylim([-1,9])\n",
    "  ax.set_xlabel('Mass Below')\n",
    "  ax.set_ylabel('Temperature ($10^9$K)')\n",
    "  line, =ax.plot(x,y)\n",
    "\n",
    "\n",
    "  n_tot = len(props_postsn['shock time'])\n",
    "  i=np.linspace(0,n_tot-1,n_tot)\n",
    "\n",
    "\n",
    "  #the function that changes zone temperatures for each time step (animates the plot)\n",
    "  def shockmovie(t):\n",
    "    i=int(t)\n",
    "    y[i]=props_postsn['shock t9'][i]\n",
    "    for j in range(0,i):\n",
    "      y[j]=props_postsn['shock t9'][i]\n",
    "    line.set_xdata(x)\n",
    "    line.set_ydata(y)\n",
    "    return line,\n",
    "\n",
    "  animation=FuncAnimation(fig, func=shockmovie, frames=i, interval=40)\n",
    "  display(HTML(animation.to_jshtml()))\n",
    "  plt.close()\n",
    "\n",
    "\n",
    "#function for plotting isotopic ratios \n",
    "#Arguments: \n",
    "#    num - the numerator isotope (str) \n",
    "#    den - is the denominator isotope (str)\n",
    "def plot_pre_post_ratios(num,den):\n",
    "\n",
    "  mfrac=[num,den] \n",
    "  ind={}\n",
    "  for sp in mfrac:\n",
    "    ind[sp]=(h5.get_nuclide_data())[sp]['index']\n",
    "  lanames=h5.get_latex_names(mfrac)\n",
    "  #Calculate the isotopic ratios \n",
    "  pre_sn_frac=mass_fractions[:,ind[mfrac[0]]]/mass_fractions[:,ind[mfrac[1]]]\n",
    "  post_sn_frac=full_mfracs[:,ind[mfrac[0]]]/full_mfracs[:,ind[mfrac[1]]]\n",
    "\n",
    "  plt.plot(props_postsn['mass below']/1.9891e33,pre_sn_frac,label='Pre Supernova')\n",
    "  plt.plot(props_postsn['mass below']/1.9891e33,post_sn_frac,label='Post Supernova')\n",
    "  plt.yscale('log')\n",
    "  plt.xlabel('Mass Below')\n",
    "  plt.ylabel(lanames[mfrac[0]] +'/' + lanames[mfrac[1]])\n",
    "  plt.legend()\n",
    "  plt.xlim([1.4,10])\n",
    "  plt.show()"
   ]
  },
  {
   "cell_type": "markdown",
   "metadata": {
    "id": "IeAjOJgYBXea"
   },
   "source": [
    "### Plotting a property vs. interior mass coordinate (Pre-supernova star)"
   ]
  },
  {
   "cell_type": "markdown",
   "metadata": {
    "id": "75yUObty_vth"
   },
   "source": [
    "The following pulls data from the props_presn dictionary to plot the temperature and density vs. interior mass coordinate in a pre-supernova star:"
   ]
  },
  {
   "cell_type": "code",
   "execution_count": null,
   "metadata": {
    "colab": {
     "base_uri": "https://localhost:8080/",
     "height": 353
    },
    "id": "Z_TvcbK05s3Y",
    "outputId": "95a1077e-2353-481b-f12e-a6677c2660fe"
   },
   "outputs": [],
   "source": [
    "h5.plot_group_properties_vs_property('PreSn/Full', 'mass below', ['t9','rho'],\n",
    "                                     xfactor = 1.989e33, \n",
    "                                     yscale = 'log',\n",
    "                                     xlabel = 'Mass Below ($M_\\odot$)'\n",
    "                                    )"
   ]
  },
  {
   "cell_type": "markdown",
   "metadata": {
    "id": "r0mLzzKq_fjt"
   },
   "source": [
    "###Plot mass fractions vs. interior mass coordinate (Pre-supernova star)"
   ]
  },
  {
   "cell_type": "markdown",
   "metadata": {
    "id": "YzotvChNyugc"
   },
   "source": [
    "Now we will plot the mass fraction of isotopes of interest throughout the pre-supernova star. The isotopes of interest should have been defined earlier in the 'getting the data' section of this notebook. The following plots the mass fraction vs. interior mass coordinate. "
   ]
  },
  {
   "cell_type": "code",
   "execution_count": null,
   "metadata": {
    "colab": {
     "base_uri": "https://localhost:8080/"
    },
    "id": "QnvZI4Gt7lkx",
    "outputId": "ec604b84-be6c-4e75-ebdf-9fc823bd100e"
   },
   "outputs": [],
   "source": [
    "h5.plot_group_mass_fractions_vs_property('PreSn/Full','mass below', species, \n",
    "                                         yscale = 'log',\n",
    "                                         xfactor = 1.989e33,\n",
    "                                         use_latex_names = True,\n",
    "                                         xlabel = 'Mass Below ($M_\\odot$)',\n",
    "                                         ylabel = 'Mass Fraction')"
   ]
  },
  {
   "cell_type": "markdown",
   "metadata": {
    "id": "JNoKuqlfCKNk"
   },
   "source": [
    "### Plotting supernova quantities during shockwave propagation"
   ]
  },
  {
   "cell_type": "markdown",
   "metadata": {
    "id": "DpJKuHaoDpHC"
   },
   "source": [
    "The following looks at one zone of the star during the propagation of the shockwave throughout the star. To plot the temperature vs. time:"
   ]
  },
  {
   "cell_type": "code",
   "execution_count": null,
   "metadata": {
    "colab": {
     "base_uri": "https://localhost:8080/"
    },
    "id": "m4mXC5hjBgTm",
    "outputId": "d7cd0793-4a82-4e31-cb04-028f552b3869"
   },
   "outputs": [],
   "source": [
    "plt.plot(props_run['time'],props_run['t9'])\n",
    "plt.xscale('log')\n",
    "plt.xlim([1e-5,100])\n",
    "plt.xlabel('Time(s)')\n",
    "plt.ylabel('$T(10^9K)$')\n",
    "plt.title('Temperature spike from a supernova shockwave')\n",
    "plt.show()"
   ]
  },
  {
   "cell_type": "markdown",
   "metadata": {
    "id": "0wMpWruUEewu"
   },
   "source": [
    "Next we want to examine how the abundance of isotopes change in a zone of the star as a result of the supernova shockwave:"
   ]
  },
  {
   "cell_type": "code",
   "execution_count": null,
   "metadata": {
    "colab": {
     "base_uri": "https://localhost:8080/"
    },
    "id": "UQNirbh5FccQ",
    "outputId": "c88d2207-0196-45ec-8991-33381dc533b7"
   },
   "outputs": [],
   "source": [
    "for sp in species:\n",
    "  plt.plot(props_run['time'],mfracs_run[:,indices[sp]],label=lnames[sp])\n",
    "plt.xlabel('Time(s)')\n",
    "plt.xscale('log')\n",
    "plt.yscale('log')\n",
    "plt.ylabel('Mass Fraction')\n",
    "plt.xlim([1e-5,100])\n",
    "plt.title('$^{18}O$ and $^{15}N$ in zone 200 during shockwave propagation')\n",
    "plt.legend()\n",
    "plt.show()"
   ]
  },
  {
   "cell_type": "markdown",
   "metadata": {
    "id": "Etdz5CWgQjGd"
   },
   "source": [
    "##Animating the shockwave"
   ]
  },
  {
   "cell_type": "markdown",
   "metadata": {
    "id": "G15KeLBWZjVh"
   },
   "source": [
    "We simply need to call the function make_shock_anim with the post supernova properties to animate the shockwave throughout the star "
   ]
  },
  {
   "cell_type": "code",
   "execution_count": null,
   "metadata": {
    "colab": {
     "base_uri": "https://localhost:8080/"
    },
    "id": "GVp8YLlKrggJ",
    "outputId": "59f1c390-ea84-4733-9932-b7e3d334c502"
   },
   "outputs": [],
   "source": [
    "make_shock_anim(props_postsn)"
   ]
  },
  {
   "cell_type": "markdown",
   "metadata": {},
   "source": [
    "### Plotting properties post supernova"
   ]
  },
  {
   "cell_type": "code",
   "execution_count": null,
   "metadata": {},
   "outputs": [],
   "source": [
    "h5.plot_group_properties_vs_property('PostSn/Full', 'mass below', ['t9','rho'],\n",
    "                                     xfactor = 1.989e33, \n",
    "                                     yscale = 'log',\n",
    "                                     xlabel = 'Mass Below ($M_\\odot$)'\n",
    "                                    )"
   ]
  },
  {
   "cell_type": "markdown",
   "metadata": {},
   "source": [
    "### Plotting mass fractions vs. interior mass coordinate post supernova"
   ]
  },
  {
   "cell_type": "code",
   "execution_count": null,
   "metadata": {},
   "outputs": [],
   "source": [
    "h5.plot_group_mass_fractions_vs_property('PostSn/Full','mass below', species, \n",
    "                                         yscale = 'log',\n",
    "                                         xfactor = 1.989e33,\n",
    "                                         use_latex_names = True,\n",
    "                                         xlabel = 'Mass Below ($M_\\odot$)',\n",
    "                                         ylabel = 'Mass Fraction')"
   ]
  },
  {
   "cell_type": "markdown",
   "metadata": {
    "id": "lKw5U3MVvn6w"
   },
   "source": [
    "##Plotting isotopic ratios pre and post supernova"
   ]
  },
  {
   "cell_type": "markdown",
   "metadata": {
    "id": "6rgIgxOIvxDr"
   },
   "source": [
    "To examine how an isotopic ratio changes vs. interior mass unit for both the pre and post supernova simply call the function 'plot_pre_post_ratios' with the arguments being the numerator and denominator isotope. "
   ]
  },
  {
   "cell_type": "code",
   "execution_count": null,
   "metadata": {
    "colab": {
     "base_uri": "https://localhost:8080/"
    },
    "id": "JARLTF_X0Id5",
    "outputId": "b766cdbd-2e63-4d3f-826b-930ae0fe88c0"
   },
   "outputs": [],
   "source": [
    "plot_pre_post_ratios('o16','o18')"
   ]
  }
 ],
 "metadata": {
  "colab": {
   "provenance": []
  },
  "kernelspec": {
   "display_name": "Python 3",
   "language": "python",
   "name": "python3"
  },
  "language_info": {
   "codemirror_mode": {
    "name": "ipython",
    "version": 3
   },
   "file_extension": ".py",
   "mimetype": "text/x-python",
   "name": "python",
   "nbconvert_exporter": "python",
   "pygments_lexer": "ipython3",
   "version": "3.9.1"
  }
 },
 "nbformat": 4,
 "nbformat_minor": 1
}
